{
 "cells": [
  {
   "cell_type": "markdown",
   "metadata": {},
   "source": [
    "### Check installation PyTorch ###\n",
    "- [x] **Nvidia CUDA 11.8** - nvcc --version\n",
    "- [x] **PyTorch 2.0 / Python 3.8**\n",
    "- [x] **env :** conda create --name bot_yolov5 python=3.8\n",
    "- [x] **PyTorch  2.0 :** conda install pytorch torchvision torchaudio pytorch-cuda=11.8 -c pytorch -c nvidia"
   ]
  },
  {
   "cell_type": "code",
   "execution_count": 8,
   "metadata": {},
   "outputs": [
    {
     "name": "stdout",
     "output_type": "stream",
     "text": [
      "tensor([[0.2270, 0.3290, 0.8489],\n",
      "        [0.7179, 0.2980, 0.9047],\n",
      "        [0.5545, 0.5002, 0.6045],\n",
      "        [0.1459, 0.7968, 0.4888],\n",
      "        [0.0163, 0.6713, 0.9674]])\n",
      "CUDA activated :  True\n"
     ]
    }
   ],
   "source": [
    "import torch\n",
    "x = torch.rand(5,3)\n",
    "print(x)\n",
    "print(\"CUDA activated : \", torch.cuda.is_available())"
   ]
  },
  {
   "cell_type": "code",
   "execution_count": 1,
   "metadata": {},
   "outputs": [],
   "source": [
    "import win32gui"
   ]
  },
  {
   "cell_type": "code",
   "execution_count": 3,
   "metadata": {},
   "outputs": [
    {
     "name": "stdout",
     "output_type": "stream",
     "text": [
      "window text: 'ThumbnailDeviceHelperWnd'\n",
      "window text: 'Shell_TrayWnd'\n",
      "window text: 'Chrome_WidgetWin_1'\n",
      "window text: 'Chrome_WidgetWin_1'\n",
      "window text: 'Chrome_WidgetWin_1'\n",
      "window text: 'Chrome_WidgetWin_1'\n",
      "window text: 'CabinetWClass'\n",
      "window text: 'Chrome_WidgetWin_1'\n",
      "window text: 'HwndWrapper[Playnite.DesktopApp.exe;;db64ff21-e176-42bb-b5c4-d6ac87f99f1c]'\n",
      "window text: 'PseudoConsoleWindow'\n",
      "window text: 'CASCADIA_HOSTING_WINDOW_CLASS'\n",
      "window text: 'CabinetWClass'\n",
      "window text: 'Windows.UI.Core.CoreWindow'\n",
      "window text: 'ApplicationFrameWindow'\n",
      "window text: 'CEF-OSC-WIDGET'\n",
      "window text: 'Windows.UI.Core.CoreWindow'\n",
      "window text: 'EdgeUiInputTopWndClass'\n",
      "window text: 'DummyDWMListenerWindow'\n",
      "window text: 'WorkerW'\n",
      "window text: 'DummyDWMListenerWindow'\n",
      "window text: 'DummyDWMListenerWindow'\n",
      "window text: 'DummyDWMListenerWindow'\n",
      "window text: 'DummyDWMListenerWindow'\n",
      "window text: 'Internet Explorer_Hidden'\n",
      "window text: 'CabinetWClass'\n",
      "window text: 'Chrome_WidgetWin_1'\n",
      "window text: 'ApplicationFrameWindow'\n",
      "window text: 'RainmeterMeterWindow'\n",
      "window text: 'RainmeterMeterWindow'\n",
      "window text: 'RainmeterMeterWindow'\n",
      "window text: 'RainmeterMeterWindow'\n",
      "window text: 'RainmeterMeterWindow'\n",
      "window text: 'RainmeterMeterWindow'\n",
      "window text: 'RainmeterMeterWindow'\n",
      "window text: 'RainmeterMeterWindow'\n",
      "window text: 'RainmeterMeterWindow'\n",
      "window text: 'RainmeterMeterWindow'\n",
      "window text: 'RainmeterMeterWindow'\n",
      "window text: 'RainmeterMeterWindow'\n",
      "window text: 'RainmeterMeterWindow'\n",
      "window text: 'RainmeterMeterWindow'\n",
      "window text: 'RainmeterMeterWindow'\n",
      "window text: 'RainmeterMeterWindow'\n",
      "window text: 'RainmeterMeterWindow'\n",
      "window text: 'RainmeterMeterWindow'\n",
      "window text: 'RainmeterMeterWindow'\n",
      "window text: 'RainmeterMeterWindow'\n",
      "window text: 'RainmeterMeterWindow'\n",
      "window text: 'RainmeterMeterWindow'\n",
      "window text: 'RainmeterMeterWindow'\n",
      "window text: 'RainmeterMeterWindow'\n",
      "window text: 'RainmeterMeterWindow'\n",
      "window text: 'RainmeterMeterWindow'\n",
      "window text: 'RainmeterMeterWindow'\n",
      "window text: 'RainmeterMeterWindow'\n",
      "window text: 'RainmeterMeterWindow'\n",
      "window text: 'RainmeterMeterWindow'\n",
      "window text: 'RainmeterMeterWindow'\n",
      "window text: 'RainmeterMeterWindow'\n",
      "window text: 'RainmeterMeterWindow'\n",
      "window text: 'RainmeterMeterWindow'\n",
      "window text: 'RainmeterMeterWindow'\n",
      "window text: 'RainmeterMeterWindow'\n",
      "window text: 'RainmeterMeterWindow'\n",
      "window text: 'Chrome_WidgetWin_1'\n",
      "window text: 'WorkerW'\n",
      "window text: 'WorkerW'\n",
      "window text: 'Progman'\n"
     ]
    }
   ],
   "source": [
    "def callback(hwnd, extra):\n",
    "    if win32gui.IsWindowVisible(hwnd):\n",
    "        print(f\"window text: '{win32gui.GetClassName(hwnd)}'\")\n",
    "\n",
    "win32gui.EnumWindows(callback, None)"
   ]
  }
 ],
 "metadata": {
  "kernelspec": {
   "display_name": "Python 3.8.16 ('bot_yolov5')",
   "language": "python",
   "name": "python3"
  },
  "language_info": {
   "codemirror_mode": {
    "name": "ipython",
    "version": 3
   },
   "file_extension": ".py",
   "mimetype": "text/x-python",
   "name": "python",
   "nbconvert_exporter": "python",
   "pygments_lexer": "ipython3",
   "version": "3.8.16"
  },
  "orig_nbformat": 4,
  "vscode": {
   "interpreter": {
    "hash": "ecea09f2db38e61deb868eed0f59352ba10b96d27cf7cf9de8b6e4ee2013468d"
   }
  }
 },
 "nbformat": 4,
 "nbformat_minor": 2
}
